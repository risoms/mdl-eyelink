{
 "cells": [
  {
   "cell_type": "markdown",
   "metadata": {},
   "source": [
    "  <title>Example setup for Eyelink 1000 Plus, using PsychoPy 3.0.</title>\n",
    "  <h5>Example setup for Eyelink 1000 Plus, using PsychoPy 3.0.</h5>"
   ]
  },
  {
   "cell_type": "markdown",
   "metadata": {},
   "source": [
    " <a>Created on Wed Feb 13 15:37:43 2019</a><br>\n",
    " <a>@author: Semeon Risom</a><br>\n",
    " <a>@email: semeon.risom@gmail.com</a><br>\n",
    " <a>Sample code to run SR Research Eyelink eyetracking system. Code is optimized for the Eyelink 1000</a><br>\n",
    " <a>Plus (5.0), but should be compatiable with earlier systems.</a><br>"
   ]
  },
  {
   "cell_type": "markdown",
   "metadata": {},
   "source": [
    " <ul class=\"list-container\">\n",
    "     <li>\n",
    "         <div class=\"title\">The sequence of operations for implementing the trial is:</div>\n",
    "         <ol class=\"list\">\n",
    "             <li>[Import the mdl package](:ref:`demo.ipynb#A-Sub-Section`).</li>\n",
    "             <li>[Initialize the `mdl.eyetracking()` package](demo.html#import).</li>\n",
    "             <li>[Connect to the Eyelink Host](demo#import).</li>\n",
    "             <li>[Set the dominamt eye](demo#import).</li>\n",
    "             <li>[Start calibration](demo#import).</li>\n",
    "             <li>[Start recording](demo#import).</li>\n",
    "             <li>[Stop recording](demo.ipynb#import).</li>\n",
    "             <li>[Finish recording](example.ipynb#import).</li>\n",
    "         </ol>\n",
    "     </li>\n",
    "     <li>\n",
    "         <div class=\"title\">Optional commands include:</div>\n",
    "         <ol>\n",
    "             <li>Drift correction.</li>\n",
    "             <li>Initiate gaze contigent event.</li>\n",
    "             <li>Collect real-time gaze coordinates from Eyelink.</li>\n",
    "             <li>Send messages to Eyelink.</li>\n",
    "         </ol>\n",
    "     </li>\n",
    " </ul>"
   ]
  },
  {
   "cell_type": "markdown",
   "metadata": {},
   "source": [
    " <h5>Import packages.</h5><br>"
   ]
  },
  {
   "cell_type": "code",
   "execution_count": 1,
   "metadata": {},
   "outputs": [],
   "source": [
    "import os, sys, time\n",
    "sys.path.append(os.path.abspath(os.getcwd() + '../../../../../../..'))\n",
    "from psychopy import visual, core\n",
    "import mdl"
   ]
  },
  {
   "cell_type": "markdown",
   "metadata": {},
   "source": [
    " <h5>Task parameters, either directly from PsychoPy or created manually.</h5><br>"
   ]
  },
  {
   "cell_type": "code",
   "execution_count": 2,
   "metadata": {},
   "outputs": [],
   "source": [
    "expInfo = {u'condition': u'even', u'participant': u'001', u'dominant eye': u'left', u'corrective': u'False'}\n",
    "subject = expInfo['participant']\n",
    "dominant_eye = expInfo['dominant eye']\n",
    "# `psychopy.core.Clock.CountdownTimer` instance\n",
    "routineTimer = core.CountdownTimer()\n",
    "# `psychopy.visual.window.Window` instance\n",
    "window = visual.Window(size=[1920, 1080], fullscr=False, allowGUI=True, units='pix', winType='pyglet', color=[110,110,110], colorSpace='rgb255')"
   ]
  },
  {
   "cell_type": "markdown",
   "metadata": {},
   "source": [
    " <h5>Initialize the mdl.eyetracking() package.</h5><br>\n",
    " Note: Before initializing, make sure code is placed after PsychoPy window instance has been created in the experiment file.\n",
    " This window will be used in the calibration function."
   ]
  },
  {
   "cell_type": "code",
   "execution_count": 3,
   "metadata": {},
   "outputs": [
    {
     "name": "stdout",
     "output_type": "stream",
     "text": [
      "\u001b[42mmdl.eyetracking() found.\u001b[0m\n",
      "\u001b[42meyetracking.library()\u001b[0m\n"
     ]
    }
   ],
   "source": [
    "# Initialize mdl.eyetracking()\n",
    "eyetracking = mdl.eyetracking.run(window=window, libraries=True, subject=subject, timer=routineTimer)"
   ]
  },
  {
   "cell_type": "markdown",
   "metadata": {},
   "source": [
    " <h5>Connect to the Eyelink Host.</h5><br>\n",
    " This controls the parameters to be used when running the eyetracker."
   ]
  },
  {
   "cell_type": "code",
   "execution_count": 4,
   "metadata": {},
   "outputs": [
    {
     "name": "stdout",
     "output_type": "stream",
     "text": [
      "\u001b[46mEyelink Connected\u001b[0m\n"
     ]
    },
    {
     "data": {
      "text/html": [
       "<div>\n",
       "<style scoped>\n",
       "    .dataframe tbody tr th:only-of-type {\n",
       "        vertical-align: middle;\n",
       "    }\n",
       "\n",
       "    .dataframe tbody tr th {\n",
       "        vertical-align: top;\n",
       "    }\n",
       "\n",
       "    .dataframe thead th {\n",
       "        text-align: right;\n",
       "    }\n",
       "</style>\n",
       "<table border=\"1\" class=\"dataframe\">\n",
       "  <thead>\n",
       "    <tr style=\"text-align: right;\">\n",
       "      <th></th>\n",
       "      <th>category</th>\n",
       "      <th>value</th>\n",
       "    </tr>\n",
       "  </thead>\n",
       "  <tbody>\n",
       "    <tr>\n",
       "      <th>0</th>\n",
       "      <td>tracker_version</td>\n",
       "      <td>3</td>\n",
       "    </tr>\n",
       "    <tr>\n",
       "      <th>1</th>\n",
       "      <td>host_version</td>\n",
       "      <td>5</td>\n",
       "    </tr>\n",
       "    <tr>\n",
       "      <th>2</th>\n",
       "      <td>select_parser_configuration</td>\n",
       "      <td>0</td>\n",
       "    </tr>\n",
       "    <tr>\n",
       "      <th>3</th>\n",
       "      <td>saccade_acceleration_threshold</td>\n",
       "      <td>9500</td>\n",
       "    </tr>\n",
       "    <tr>\n",
       "      <th>4</th>\n",
       "      <td>saccade_velocity_threshold</td>\n",
       "      <td>35</td>\n",
       "    </tr>\n",
       "    <tr>\n",
       "      <th>5</th>\n",
       "      <td>recording_parse_type</td>\n",
       "      <td>GAZE</td>\n",
       "    </tr>\n",
       "    <tr>\n",
       "      <th>6</th>\n",
       "      <td>enable_search_limits</td>\n",
       "      <td>YES</td>\n",
       "    </tr>\n",
       "    <tr>\n",
       "      <th>7</th>\n",
       "      <td>automatic_calibration_pacing</td>\n",
       "      <td>1000</td>\n",
       "    </tr>\n",
       "    <tr>\n",
       "      <th>8</th>\n",
       "      <td>file_event_filter</td>\n",
       "      <td>LEFT,RIGHT,FIXATION,SACCADE,BLINK,MESSAGE,BUTT...</td>\n",
       "    </tr>\n",
       "    <tr>\n",
       "      <th>9</th>\n",
       "      <td>file_sample_data</td>\n",
       "      <td>LEFT,RIGHT,GAZE,AREA,GAZERES,STATUS,HTARGET,INPUT</td>\n",
       "    </tr>\n",
       "    <tr>\n",
       "      <th>10</th>\n",
       "      <td>link_event_filter</td>\n",
       "      <td>LEFT,RIGHT,FIXATION,FIXUPDATE,SACCADE,BLINK,BU...</td>\n",
       "    </tr>\n",
       "    <tr>\n",
       "      <th>11</th>\n",
       "      <td>link_sample_data</td>\n",
       "      <td>LEFT,RIGHT,GAZE,GAZERES,AREA,STATUS,HTARGET,INPUT</td>\n",
       "    </tr>\n",
       "    <tr>\n",
       "      <th>12</th>\n",
       "      <td>calibration_type</td>\n",
       "      <td>13</td>\n",
       "    </tr>\n",
       "  </tbody>\n",
       "</table>\n",
       "</div>"
      ],
      "text/plain": [
       "                          category  \\\n",
       "0                  tracker_version   \n",
       "1                     host_version   \n",
       "2      select_parser_configuration   \n",
       "3   saccade_acceleration_threshold   \n",
       "4       saccade_velocity_threshold   \n",
       "5             recording_parse_type   \n",
       "6             enable_search_limits   \n",
       "7     automatic_calibration_pacing   \n",
       "8                file_event_filter   \n",
       "9                 file_sample_data   \n",
       "10               link_event_filter   \n",
       "11                link_sample_data   \n",
       "12                calibration_type   \n",
       "\n",
       "                                                value  \n",
       "0                                                   3  \n",
       "1                                                   5  \n",
       "2                                                   0  \n",
       "3                                                9500  \n",
       "4                                                  35  \n",
       "5                                                GAZE  \n",
       "6                                                 YES  \n",
       "7                                                1000  \n",
       "8   LEFT,RIGHT,FIXATION,SACCADE,BLINK,MESSAGE,BUTT...  \n",
       "9   LEFT,RIGHT,GAZE,AREA,GAZERES,STATUS,HTARGET,INPUT  \n",
       "10  LEFT,RIGHT,FIXATION,FIXUPDATE,SACCADE,BLINK,BU...  \n",
       "11  LEFT,RIGHT,GAZE,GAZERES,AREA,STATUS,HTARGET,INPUT  \n",
       "12                                                 13  "
      ]
     },
     "metadata": {},
     "output_type": "display_data"
    }
   ],
   "source": [
    "param = eyetracking.connect(calibration_type=13)"
   ]
  },
  {
   "cell_type": "markdown",
   "metadata": {},
   "source": [
    " <h5>Set the dominamt eye.</h5><br>\n",
    " This step is required for recieving gaze coordinates from Eyelink->PsychoPy."
   ]
  },
  {
   "cell_type": "code",
   "execution_count": 5,
   "metadata": {},
   "outputs": [
    {
     "name": "stdout",
     "output_type": "stream",
     "text": [
      "\u001b[42meyetracking.set_eye_used()\u001b[0m\n",
      "\u001b[46meye_entered = left('left')\u001b[0m\n"
     ]
    }
   ],
   "source": [
    "eye_used = eyetracking.set_eye_used(eye=dominant_eye)"
   ]
  },
  {
   "cell_type": "markdown",
   "metadata": {},
   "source": [
    " <h5>Start calibration.</h5><br>"
   ]
  },
  {
   "cell_type": "code",
   "execution_count": 6,
   "metadata": {},
   "outputs": [
    {
     "name": "stdout",
     "output_type": "stream",
     "text": [
      "\u001b[42meyetracking.calibration()\u001b[0m\n",
      "setup_cal_display\n",
      "exit_cal_display\n",
      "clear_cal_display\n",
      "\u001b[46meyetracking.calibration() finished\u001b[0m\n"
     ]
    }
   ],
   "source": [
    "# start calibration\n",
    "calibration = eyetracking.calibration()"
   ]
  },
  {
   "cell_type": "code",
   "execution_count": 7,
   "metadata": {},
   "outputs": [],
   "source": [
    "# Enter the key \"o\" on the calibration instance. This will begin the task. \n",
    "# The Calibration, Validation, 'task-start' events are controlled by the keyboard.\n",
    "# Calibration (\"c\"), Validation (\"v\"), task-start (\"o\") respectively."
   ]
  },
  {
   "cell_type": "markdown",
   "metadata": {},
   "source": [
    " <h5>(Optional) Print message to console/terminal.</h5><br>\n",
    " Allows printing color coded messages to console/terminal/cmd. This may be useful for debugging issues."
   ]
  },
  {
   "cell_type": "code",
   "execution_count": 8,
   "metadata": {},
   "outputs": [
    {
     "name": "stdout",
     "output_type": "stream",
     "text": [
      "\u001b[46meyetracking.calibration() started\u001b[0m\n"
     ]
    }
   ],
   "source": [
    "eyetracking.console(c=\"blue\", msg=\"eyetracking.calibration() started\")"
   ]
  },
  {
   "cell_type": "markdown",
   "metadata": {},
   "source": [
    " <h5>(Optional) Drift correction.</h5><br>\n",
    " This can be done at any point after calibration, including before and after\n",
    " [eyetracking.start_recording()](eyetracking.rst#mdl.eyetracking.eyetracking.start_recording) has started."
   ]
  },
  {
   "cell_type": "code",
   "execution_count": 9,
   "metadata": {},
   "outputs": [
    {
     "name": "stdout",
     "output_type": "stream",
     "text": [
      "\u001b[42meyetracking.drift_correction()\u001b[0m\n",
      "setup_cal_display\n",
      "draw_cal_target\n",
      "clear_cal_display\n",
      "erase_cal_target\n",
      "clear_cal_display\n",
      "exit_cal_display\n",
      "clear_cal_display\n",
      "\u001b[46meyetracking.drift_correction() finished\u001b[0m\n"
     ]
    }
   ],
   "source": [
    "drift = eyetracking.drift_correction()"
   ]
  },
  {
   "cell_type": "markdown",
   "metadata": {},
   "source": [
    " <h5>Start recording.</h5><br>\n",
    " Note: This should be run at the start of the trial. Also, there is an intentional delay of 150 msec to\n",
    " allow the Eyelink to buffer gaze samples that will show up in your data."
   ]
  },
  {
   "cell_type": "code",
   "execution_count": 10,
   "metadata": {},
   "outputs": [],
   "source": [
    "# Create stimulus (demonstration purposes only).\n",
    "filename = \"8380.bmp\"\n",
    "path = os.getcwd() + \"/stimuli/\" + filename\n",
    "size = (1024, 768) #image size\n",
    "pos = (window.size[0]/2, window.size[1]/2) #positioning image at center of screen\n",
    "stimulus = visual.ImageStim(win=window, image=path, size=size, pos=(0,0), units='pix')"
   ]
  },
  {
   "cell_type": "code",
   "execution_count": 11,
   "metadata": {},
   "outputs": [
    {
     "name": "stdout",
     "output_type": "stream",
     "text": [
      "\u001b[42meyetracking.start_recording()\u001b[0m\n"
     ]
    },
    {
     "data": {
      "text/plain": [
       "True"
      ]
     },
     "execution_count": 11,
     "metadata": {},
     "output_type": "execute_result"
    }
   ],
   "source": [
    "# start recording\n",
    "eyetracking.start_recording(trial=1, block=1)"
   ]
  },
  {
   "cell_type": "markdown",
   "metadata": {},
   "source": [
    " <h5>(Optional) Initiate gaze contigent event.</h5><br>\n",
    " This is used for realtime data collection from Eyelink->PsychoPy."
   ]
  },
  {
   "cell_type": "code",
   "execution_count": 12,
   "metadata": {},
   "outputs": [
    {
     "name": "stdout",
     "output_type": "stream",
     "text": [
      "\u001b[46meyetracking.gc() success in 2000 msec\u001b[0m\n"
     ]
    }
   ],
   "source": [
    "# In the example, a participant is qto look at the bounding cross for a duration\n",
    "# of 2000 msec before continuing the task. If this doesn't happen and a maxinum maxinum duration of \n",
    "# 10000 msec has occured first drift correction will start.\n",
    "bound = dict(left=860, top=440, right=1060, bottom=640)\n",
    "eyetracking.gc(bound=bound, t_min=2000, t_max=10000)"
   ]
  },
  {
   "cell_type": "markdown",
   "metadata": {},
   "source": [
    " <h5>(Optional) Collect real-time gaze coordinates from Eyelink.</h5><br>\n",
    " Note: This command should be run at an interval of 1000/(Eyelink pacing interval) msec to prevent oversampling."
   ]
  },
  {
   "cell_type": "code",
   "execution_count": 13,
   "metadata": {},
   "outputs": [
    {
     "data": {
      "text/plain": [
       "((959.9000244140625, 539.9000244140625),\n",
       " 1000.0,\n",
       " <pylink.tracker.Sample at 0x5428518>)"
      ]
     },
     "execution_count": 13,
     "metadata": {},
     "output_type": "execute_result"
    }
   ],
   "source": [
    "# get gaze coordinates, pupil size, and sample\n",
    "gxy, ps, sample = eyetracking.sample()"
   ]
  },
  {
   "cell_type": "markdown",
   "metadata": {},
   "source": [
    " <h5>(Optional) Example use of `eyetracking.sample()`.</h5><br>\n",
    " Note: This command should be run at an interval of 1000/(Eyelink pacing interval) msec to prevent oversampling."
   ]
  },
  {
   "cell_type": "code",
   "execution_count": 14,
   "metadata": {
    "scrolled": true
   },
   "outputs": [],
   "source": [
    "# In our example, the sampling rate of our device (Eyelink 1000 Plus) is 500Hz.\n",
    "s1 = 0 # set current time to 0\n",
    "lgxy = [] # create list of gaze coordinates (demonstration purposes only)\n",
    "s0 = time.clock() # initial timestamp\n",
    "# repeat\n",
    "while True:\n",
    "    # if difference between starting and current time is greater than > 2.01 msec, collect new sample\n",
    "    diff = (s1 - s0)\n",
    "    if diff >= .00201:\n",
    "        gxy, ps, sample = eyetracking.sample() # get gaze coordinates, pupil size, and sample\n",
    "        lgxy.append(gxy) # store in list (not required; demonstration purposes only)\n",
    "        s0 = time.clock() # update starting time\n",
    "    #else set current time\n",
    "    else: \n",
    "        s1 = time.clock()\n",
    "\n",
    "    #break `while` statement if list of gaze coordiantes >= 20 (not required; demonstration purposes only)\n",
    "    if len(lgxy) >= 200: break"
   ]
  },
  {
   "cell_type": "markdown",
   "metadata": {},
   "source": [
    " <h5>(Optional) Send messages to Eyelink.</h5><br>\n",
    " This allows post-hoc processing of event markers (i.e. \"stimulus onset\")."
   ]
  },
  {
   "cell_type": "code",
   "execution_count": 15,
   "metadata": {},
   "outputs": [],
   "source": [
    "# Sending message \"stimulus onset\".\n",
    "eyetracking.send_message(msg=\"stimulus onset\")"
   ]
  },
  {
   "cell_type": "markdown",
   "metadata": {},
   "source": [
    " <h5>Stop recording.</h5><br>\n",
    " Also (optional) provides trial-level variables to Eyelink.\n",
    " Note: Variables sent are optional. If they being included, they must be in `python dict` format."
   ]
  },
  {
   "cell_type": "code",
   "execution_count": 16,
   "metadata": {},
   "outputs": [
    {
     "name": "stdout",
     "output_type": "stream",
     "text": [
      "\u001b[42meyetracking.stop_recording()\u001b[0m\n",
      "\u001b[42mvariables sent\u001b[0m\n"
     ]
    },
    {
     "data": {
      "text/plain": [
       "False"
      ]
     },
     "execution_count": 16,
     "metadata": {},
     "output_type": "execute_result"
    }
   ],
   "source": [
    "# Prepare variables to be sent to Eyelink\n",
    "variables = dict(stimulus=filename, trial_type='encoding', race=\"black\")\n",
    "# Stop recording\n",
    "eyetracking.stop_recording(trial=1, block=1, variables=variables)"
   ]
  },
  {
   "cell_type": "markdown",
   "metadata": {},
   "source": [
    " <h5>Finish recording.</h5><br>"
   ]
  },
  {
   "cell_type": "code",
   "execution_count": 17,
   "metadata": {},
   "outputs": [
    {
     "name": "stdout",
     "output_type": "stream",
     "text": [
      "\u001b[42meyetracking.finish_recording()\u001b[0m\n",
      "\u001b[46mFile saved at: c:\\Users\\mdl-admin\\Desktop\\mdl-eyelink\\mdl\\docs\\source\\examples\\eyetracking\\demo\\data\\edf\\001.edf\u001b[0m\n"
     ]
    },
    {
     "data": {
      "text/plain": [
       "True"
      ]
     },
     "execution_count": 17,
     "metadata": {},
     "output_type": "execute_result"
    }
   ],
   "source": [
    "eyetracking.finish_recording()"
   ]
  }
 ],
 "metadata": {
  "file_extension": ".py",
  "kernelspec": {
   "display_name": "Python 3",
   "language": "python",
   "name": "python3"
  },
  "language_info": {
   "codemirror_mode": {
    "name": "ipython",
    "version": 3
   },
   "file_extension": ".py",
   "mimetype": "text/x-python",
   "name": "python",
   "nbconvert_exporter": "python",
   "pygments_lexer": "ipython3",
   "version": "3.6.8"
  },
  "mimetype": "text/x-python",
  "name": "python",
  "npconvert_exporter": "python",
  "pygments_lexer": "ipython3",
  "version": 3
 },
 "nbformat": 4,
 "nbformat_minor": 2
}

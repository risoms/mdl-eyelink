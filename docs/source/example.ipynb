{
 "cells": [
  {
   "cell_type": "markdown",
   "metadata": {},
   "source": [
    "#### Example setup for Eyelink 1000 Plus, using PsychoPy 3.0."
   ]
  },
  {
   "cell_type": "markdown",
   "metadata": {},
   "source": [
    " Created on Wed Feb 13 15:37:43 2019   \n",
    " @author: Semeon Risom   \n",
    " @email: semeon.risom@gmail.com   \n",
    " Sample code to run SR Research Eyelink eyetracking system. Code is optimized for the Eyelink 1000   \n",
    " Plus (5.0), but should be compatiable with earlier systems.   "
   ]
  },
  {
   "cell_type": "markdown",
   "metadata": {},
   "source": [
    "<ul class=\"list-container\">\n",
    "    <li>\n",
    "        <div class=\"title\">The sequence of operations for implementing the trial is:</div>\n",
    "        <ol class=\"list\">\n",
    "            <li>[Import the mdl package][example.ipynb#import].</li>\n",
    "            <li><a href=\"import\">Initialize the `mdl.eyetracking()` package.</a></li>\n",
    "            <li><a href=\"import\">Connect to the Eyelink Host.</a></li>\n",
    "            <li><a href=\"import\">Set the dominamt eye.</a></li>\n",
    "            <li><a href=\"import\">Start calibration.</a></li>\n",
    "            <li><a href=\"import\">Start recording.</a></li>\n",
    "            <li><a href=\"import\">Stop recording.</a></li>\n",
    "            <li><a href=\"import\">Finish recording.</a></li>\n",
    "        </ol>\n",
    "    </li>\n",
    "    <li>\n",
    "        <div class=\"title\">Optional commands include:</div>\n",
    "        <ol>\n",
    "            <li><a href=\"import\">Drift correction.</a></li>\n",
    "            <li><a href=\"import\">Initiate gaze contigent event.</a></li>\n",
    "            <li><a href=\"import\">Collect real-time gaze coordinates from Eyelink.</a></li>\n",
    "            <li><a href=\"import\">Send messages to Eyelink.</a></li>\n",
    "        </ol>\n",
    "    </li>\n",
    "</ul>"
   ]
  },
  {
   "cell_type": "markdown",
   "metadata": {},
   "source": [
    "##### Import packages."
   ]
  },
  {
   "cell_type": "code",
   "execution_count": 1,
   "metadata": {},
   "outputs": [],
   "source": [
    "import os\n",
    "import sys\n",
    "from psychopy import visual, monitors\n",
    "import time\n",
    "sys.path.append(\"../../\")\n",
    "import mdl"
   ]
  },
  {
   "cell_type": "markdown",
   "metadata": {},
   "source": [
    "#### Initialize the mdl.eyetracking() package.\n",
    "<div class=\"alert alert-warning\">\n",
    "\n",
    "**Warning:** Before initializing, make sure code is placed after PsychoPy window instance has been created in the experiment file. This window will be used in the calibration function.\n",
    "</div>"
   ]
  },
  {
   "cell_type": "code",
   "execution_count": 2,
   "metadata": {},
   "outputs": [],
   "source": [
    "# Creating `psychopy.visual.window.Window` instance (for demonstration purposes only)\n",
    "subject = 1\n",
    "screensize = [1920, 1080]\n",
    "monitor = monitors.Monitor('Monitor', width=53.0, distance=65.0)\n",
    "monitor.setSizePix(screensize)\n",
    "window = visual.Window(size=screensize, fullscr=False, allowGUI=True, units='pix', monitor=monitor, \n",
    "                       winType='pyglet', color=[110,110,110], colorSpace='rgb255')\n",
    "#start\n",
    "eyetracking = mdl.eyetracking(libraries=False, window=window, subject=subject)"
   ]
  },
  {
   "cell_type": "markdown",
   "metadata": {},
   "source": [
    "##### Connect to the Eyelink Host.\n",
    "This controls the parameters to be used when running the eyetracker."
   ]
  },
  {
   "cell_type": "code",
   "execution_count": 3,
   "metadata": {},
   "outputs": [
    {
     "name": "stdout",
     "output_type": "stream",
     "text": [
      "\u001b[46mEyelink Connected\u001b[0m\n"
     ]
    },
    {
     "data": {
      "text/html": [
       "<div>\n",
       "<style scoped>\n",
       "    .dataframe tbody tr th:only-of-type {\n",
       "        vertical-align: middle;\n",
       "    }\n",
       "\n",
       "    .dataframe tbody tr th {\n",
       "        vertical-align: top;\n",
       "    }\n",
       "\n",
       "    .dataframe thead th {\n",
       "        text-align: right;\n",
       "    }\n",
       "</style>\n",
       "<table border=\"1\" class=\"dataframe\">\n",
       "  <thead>\n",
       "    <tr style=\"text-align: right;\">\n",
       "      <th></th>\n",
       "      <th>category</th>\n",
       "      <th>value</th>\n",
       "    </tr>\n",
       "  </thead>\n",
       "  <tbody>\n",
       "    <tr>\n",
       "      <th>0</th>\n",
       "      <td>tracker_version</td>\n",
       "      <td>3</td>\n",
       "    </tr>\n",
       "    <tr>\n",
       "      <th>1</th>\n",
       "      <td>host_version</td>\n",
       "      <td>5</td>\n",
       "    </tr>\n",
       "    <tr>\n",
       "      <th>2</th>\n",
       "      <td>select_parser_configuration</td>\n",
       "      <td>0</td>\n",
       "    </tr>\n",
       "    <tr>\n",
       "      <th>3</th>\n",
       "      <td>saccade_acceleration_threshold</td>\n",
       "      <td>9500</td>\n",
       "    </tr>\n",
       "    <tr>\n",
       "      <th>4</th>\n",
       "      <td>saccade_velocity_threshold</td>\n",
       "      <td>35</td>\n",
       "    </tr>\n",
       "    <tr>\n",
       "      <th>5</th>\n",
       "      <td>recording_parse_type</td>\n",
       "      <td>GAZE</td>\n",
       "    </tr>\n",
       "    <tr>\n",
       "      <th>6</th>\n",
       "      <td>enable_search_limits</td>\n",
       "      <td>YES</td>\n",
       "    </tr>\n",
       "    <tr>\n",
       "      <th>7</th>\n",
       "      <td>automatic_calibration_pacing</td>\n",
       "      <td>1000</td>\n",
       "    </tr>\n",
       "    <tr>\n",
       "      <th>8</th>\n",
       "      <td>file_event_filter</td>\n",
       "      <td>LEFT,RIGHT,FIXATION,SACCADE,BLINK,MESSAGE,BUTT...</td>\n",
       "    </tr>\n",
       "    <tr>\n",
       "      <th>9</th>\n",
       "      <td>file_sample_data</td>\n",
       "      <td>LEFT,RIGHT,GAZE,AREA,GAZERES,STATUS,HTARGET,INPUT</td>\n",
       "    </tr>\n",
       "    <tr>\n",
       "      <th>10</th>\n",
       "      <td>link_event_filter</td>\n",
       "      <td>LEFT,RIGHT,FIXATION,FIXUPDATE,SACCADE,BLINK,BU...</td>\n",
       "    </tr>\n",
       "    <tr>\n",
       "      <th>11</th>\n",
       "      <td>link_sample_data</td>\n",
       "      <td>LEFT,RIGHT,GAZE,GAZERES,AREA,STATUS,HTARGET,INPUT</td>\n",
       "    </tr>\n",
       "    <tr>\n",
       "      <th>12</th>\n",
       "      <td>calibration_type</td>\n",
       "      <td>13</td>\n",
       "    </tr>\n",
       "  </tbody>\n",
       "</table>\n",
       "</div>"
      ],
      "text/plain": [
       "                          category  \\\n",
       "0                  tracker_version   \n",
       "1                     host_version   \n",
       "2      select_parser_configuration   \n",
       "3   saccade_acceleration_threshold   \n",
       "4       saccade_velocity_threshold   \n",
       "5             recording_parse_type   \n",
       "6             enable_search_limits   \n",
       "7     automatic_calibration_pacing   \n",
       "8                file_event_filter   \n",
       "9                 file_sample_data   \n",
       "10               link_event_filter   \n",
       "11                link_sample_data   \n",
       "12                calibration_type   \n",
       "\n",
       "                                                value  \n",
       "0                                                   3  \n",
       "1                                                   5  \n",
       "2                                                   0  \n",
       "3                                                9500  \n",
       "4                                                  35  \n",
       "5                                                GAZE  \n",
       "6                                                 YES  \n",
       "7                                                1000  \n",
       "8   LEFT,RIGHT,FIXATION,SACCADE,BLINK,MESSAGE,BUTT...  \n",
       "9   LEFT,RIGHT,GAZE,AREA,GAZERES,STATUS,HTARGET,INPUT  \n",
       "10  LEFT,RIGHT,FIXATION,FIXUPDATE,SACCADE,BLINK,BU...  \n",
       "11  LEFT,RIGHT,GAZE,GAZERES,AREA,STATUS,HTARGET,INPUT  \n",
       "12                                                 13  "
      ]
     },
     "metadata": {},
     "output_type": "display_data"
    }
   ],
   "source": [
    "param = eyetracking.connect(calibration_type=13)"
   ]
  },
  {
   "cell_type": "markdown",
   "metadata": {},
   "source": [
    "##### Set the dominant eye.\n",
    "This step is required for recieving gaze coordinates from Eyelink->PsychoPy."
   ]
  },
  {
   "cell_type": "code",
   "execution_count": 4,
   "metadata": {},
   "outputs": [
    {
     "name": "stdout",
     "output_type": "stream",
     "text": [
      "\u001b[42meyetracking.set_eye_used()\u001b[0m\n",
      "\u001b[46meye_entered = left(left)\u001b[0m\n"
     ]
    }
   ],
   "source": [
    "dominant_eye = 'left'\n",
    "eye_used = eyetracking.set_eye_used(eye=dominant_eye)"
   ]
  },
  {
   "cell_type": "markdown",
   "metadata": {},
   "source": [
    "##### Start calibration.\n",
    "<div class=\"alert alert-info\">\n",
    "\n",
    "**Note:** If using PsychoPy, be sure to place [eyetracking.calibration()](eyetracking.rst#mdl.eyetracking.eyetracking.calibration)\n",
    " after the `psychopy.visual.window.Window` instance. The instance will be used as a parameter in the function.</div>"
   ]
  },
  {
   "cell_type": "code",
   "execution_count": 5,
   "metadata": {},
   "outputs": [
    {
     "name": "stdout",
     "output_type": "stream",
     "text": [
      "\u001b[42meyetracking.calibration()\u001b[0m\n"
     ]
    }
   ],
   "source": [
    "eyetracking.calibration()"
   ]
  },
  {
   "cell_type": "code",
   "execution_count": null,
   "metadata": {},
   "outputs": [],
   "source": [
    "# Enter the key \"o\" on the calibration instance. This will begin the task. \n",
    "# The Calibration, Validation, 'task-start' events are controlled by the keyboard.\n",
    "# Calibration (\"c\"), Validation (\"v\"), task-start (\"o\") respectively."
   ]
  },
  {
   "cell_type": "markdown",
   "metadata": {},
   "source": [
    "##### (Optional) Print message to console/terminal.\n",
    "Allows printing color coded messages to console/terminal/cmd. This may be useful for debugging issues."
   ]
  },
  {
   "cell_type": "code",
   "execution_count": 7,
   "metadata": {},
   "outputs": [
    {
     "name": "stdout",
     "output_type": "stream",
     "text": [
      "\u001b[46meyetracking.calibration() started\u001b[0m\n"
     ]
    }
   ],
   "source": [
    "eyetracking.console(c=\"blue\", msg=\"eyetracking.calibration() started\")"
   ]
  },
  {
   "cell_type": "markdown",
   "metadata": {},
   "source": [
    "##### (Optional) Drift correction.\n",
    "This can be done at any point after calibration, including before and after [eyetracking.start_recording()](eyetracking.rst#mdl.eyetracking.eyetracking.start_recording) has started."
   ]
  },
  {
   "cell_type": "code",
   "execution_count": 8,
   "metadata": {},
   "outputs": [
    {
     "name": "stdout",
     "output_type": "stream",
     "text": [
      "\u001b[42meyetracking.drift_correction()\u001b[0m\n"
     ]
    }
   ],
   "source": [
    "eyetracking.drift_correction()"
   ]
  },
  {
   "cell_type": "markdown",
   "metadata": {},
   "source": [
    "##### Start recording.\n",
    "<div class=\"alert alert-info\">\n",
    "\n",
    "**Note:** This should be run at the start of the trial. Also, there is an intentional delay of 150 msec to allow the Eyelink to buffer gaze samples that will show up in your data.</div>"
   ]
  },
  {
   "cell_type": "code",
   "execution_count": 9,
   "metadata": {
    "scrolled": true
   },
   "outputs": [
    {
     "name": "stdout",
     "output_type": "stream",
     "text": [
      "\u001b[42meyetracking.start_recording()\u001b[0m\n"
     ]
    }
   ],
   "source": [
    "# Create stimulus (demonstration purposes only).\n",
    "filename = \"8380.bmp\" #filename\n",
    "path = os.getcwd() + \"/data/stimulus/\" + filename #file path\n",
    "size = (1024, 768) #image size\n",
    "pos = (screensize[0]/2, screensize[1]/2) #positioning image at center of screen\n",
    "stimulus = visual.ImageStim(win=window, image=path, size=size, pos=(0,0), units='pix')\n",
    "\n",
    "#start\n",
    "eyetracking.start_recording(trial=1, block=1)"
   ]
  },
  {
   "cell_type": "markdown",
   "metadata": {},
   "source": [
    "##### (Optional) Initiate gaze contigent event.\n",
    "This is used for realtime data collection from Eyelink->PsychoPy."
   ]
  },
  {
   "cell_type": "code",
   "execution_count": 10,
   "metadata": {},
   "outputs": [
    {
     "name": "stdout",
     "output_type": "stream",
     "text": [
      "\u001b[46meyetracking.gc() success in 2000\u001b[0m\n"
     ]
    }
   ],
   "source": [
    "# In the example, a participant is qto look at the bounding cross for a duration\n",
    "# of 2000 msec before continuing the task. If this doesn't happen and a maxinum maxinum duration of \n",
    "# 10000 msec has occured first drift correction will start.\n",
    "bound = dict(left=860, top=440, right=1060, bottom=640)\n",
    "t_min = 2000\n",
    "t_max = 10000\n",
    "\n",
    "# start\n",
    "eyetracking.gc(bound=bound, t_min=t_min, t_max=t_max)"
   ]
  },
  {
   "cell_type": "markdown",
   "metadata": {},
   "source": [
    "##### (Optional) Collect real-time gaze coordinates from Eyelink.\n",
    "<div class=\"alert alert-info\">\n",
    "\n",
    "**Note:** This command should be repeated at an interval of 1000/Eyelink pacing interval msec to prevent oversampling.</div>"
   ]
  },
  {
   "cell_type": "code",
   "execution_count": 12,
   "metadata": {},
   "outputs": [
    {
     "name": "stdout",
     "output_type": "stream",
     "text": [
      "64.44419745774674\n",
      "64.44630686928679\n",
      "64.44858980497214\n",
      "64.45068897665034\n",
      "64.4529220967916\n",
      "64.45500853783075\n",
      "64.4571359383173\n",
      "64.45926001776755\n",
      "64.46132376505882\n",
      "64.4633667558734\n",
      "64.46558133356211\n",
      "64.4676246011297\n",
      "64.46966952921544\n",
      "64.4717271879402\n",
      "64.4737643669413\n",
      "64.47581372307539\n",
      "64.47786363271553\n",
      "64.47990357924684\n",
      "64.48194214201304\n",
      "64.48399260515923\n"
     ]
    }
   ],
   "source": [
    "# In our example, the sampling rate of our device (Eyelink 1000 Plus) is 500Hz.\n",
    "s1 = 0 # set current time to 0\n",
    "lgxy = [] # create list of gaze coordinates (demonstration purposes only)\n",
    "s0 = time.clock() # initial timestamp\n",
    "# repeat\n",
    "while True:\n",
    "    # if difference between starting and current time is greater than > 2.01 msec, collect new sample\n",
    "    diff = (s1 - s0)\n",
    "    if diff >= .00201:\n",
    "        print(s1)\n",
    "        gxy, ps, s = eyetracking.sample(eye_used=eye_used) # get gaze coordinates, pupil size, and sample\n",
    "        lgxy.append(gxy) # store in list (not required; demonstration purposes only)\n",
    "        s0 = time.clock() # update starting time\n",
    "    #else set current time\n",
    "    else: \n",
    "        s1 = time.clock()\n",
    "\n",
    "    #break `while` statement if list of gaze coordiantes >= 20 (not required; demonstration purposes only)\n",
    "    if len(lgxy) >= 20: break"
   ]
  },
  {
   "cell_type": "markdown",
   "metadata": {},
   "source": [
    "##### (Optional) Send messages to Eyelink.\n",
    "This allows post-hoc processing of event markers (i.e. \"stimulus onset\")."
   ]
  },
  {
   "cell_type": "code",
   "execution_count": 13,
   "metadata": {},
   "outputs": [],
   "source": [
    "# Sending message \"stimulus onset\".\n",
    "msg = \"stimulus onset\"\n",
    "eyetracking.send_message(msg=msg)"
   ]
  },
  {
   "cell_type": "markdown",
   "metadata": {},
   "source": [
    "##### Stop recording. Also (optional) provides trial-level variables to Eyelink.\n",
    "<div class=\"alert alert-info\">\n",
    "\n",
    "**Note:** Note: Variables sent are optional. If they being included, they must be in `dict` format.</div>"
   ]
  },
  {
   "cell_type": "code",
   "execution_count": 14,
   "metadata": {},
   "outputs": [
    {
     "name": "stdout",
     "output_type": "stream",
     "text": [
      "\u001b[42meyetracking.stop_recording()\u001b[0m\n",
      "\u001b[42mvariables sent\u001b[0m\n"
     ]
    }
   ],
   "source": [
    "# set variables\n",
    "variables = dict(stimulus=filename, trial_type='encoding', race=\"black\")\n",
    "# stop recording\n",
    "eyetracking.stop_recording(trial=1, block=1, variables=variables)"
   ]
  },
  {
   "cell_type": "markdown",
   "metadata": {},
   "source": [
    "##### Finish recording."
   ]
  },
  {
   "cell_type": "code",
   "execution_count": 15,
   "metadata": {},
   "outputs": [
    {
     "name": "stdout",
     "output_type": "stream",
     "text": [
      "\u001b[42meyetracking.finish_recording()\u001b[0m\n",
      "\u001b[46mFile saved at: c:\\Users\\mdl-admin\\Desktop\\mdl-eyelink\\docs\\source\\data\\edf\\1.edf\u001b[0m\n"
     ]
    }
   ],
   "source": [
    "eyetracking.finish_recording()"
   ]
  }
 ],
 "metadata": {
  "file_extension": ".py",
  "kernelspec": {
   "display_name": "'Python Interactive'",
   "language": "python",
   "name": "4560f1aa-eb3c-4557-93b5-1207647ba388"
  },
  "language_info": {
   "codemirror_mode": {
    "name": "ipython",
    "version": 3
   },
   "file_extension": ".py",
   "mimetype": "text/x-python",
   "name": "python",
   "nbconvert_exporter": "python",
   "pygments_lexer": "ipython3",
   "version": "3.6.7"
  },
  "mimetype": "text/x-python",
  "name": "python",
  "npconvert_exporter": "python",
  "pygments_lexer": "ipython3",
  "version": 3
 },
 "nbformat": 4,
 "nbformat_minor": 2
}

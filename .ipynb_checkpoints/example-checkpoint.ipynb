{
 "cells": [
  {
   "cell_type": "markdown",
   "metadata": {},
   "source": [
    "### imports"
   ]
  },
  {
   "cell_type": "code",
   "execution_count": 0,
   "metadata": {},
   "outputs": [],
   "source": [
    "from psychopy import visual\n",
    "import mdl"
   ]
  },
  {
   "cell_type": "code",
   "execution_count": 0,
   "metadata": {},
   "outputs": [],
   "source": [
    "#----pre-task\n",
    "# initalize\n",
    "\"\"\"\n",
    "Parameters\n",
    "----------\n",
    "libraries : :class:`bool`\n",
    "    Should the code check if required libraries are available.\n",
    "sample_rate : :class:`int`\n",
    "    Subject Number.\n",
    "\"\"\"\n",
    "subject = 1\n",
    "eyetracking = mdl.eyetracking(libraries=False, subject=subject)\n"
   ]
  },
  {
   "cell_type": "code",
   "execution_count": 0,
   "metadata": {},
   "outputs": [],
   "source": [
    "# set dominant eye\n",
    "\"\"\"\n",
    "Parameters\n",
    "----------\n",
    "eye : :obj:`str`\n",
    "    Dominant eye, either left or right. This will be used for outputting Eyelink gaze samples.\n",
    "\"\"\"\n",
    "dominant_eye = 'left'\n",
    "eye_used = eyetracking.set_eye_used(eye=dominant_eye)\n"
   ]
  },
  {
   "cell_type": "code",
   "execution_count": 0,
   "metadata": {},
   "outputs": [],
   "source": [
    "# ----------------calibration\n",
    "\"\"\"\n",
    "Parameters\n",
    "----------\n",
    "window : :class:`psychopy.visual.window.Window`\n",
    "    PsychoPy window instance.\n",
    "\"\"\"\n",
    "# create psychopy window\n",
    "window = visual.Window(\n",
    "    size=[1336, 768], fullscr=False, screen=0,\n",
    "    allowGUI=True, allowStencil=False,\n",
    "    monitor=u'testMonitor', color=u'white', colorSpace='rgb',\n",
    "    blendMode='avg')\n",
    "\n",
    "# start calibration\n",
    "eyetracking.calibration(window=window)\n",
    "#----------------debugging (optional)\n",
    "\"\"\"\n",
    "Parameters\n",
    "----------\n",
    "color : :class:`str`\n",
    "    Color to use (black, red, green, orange, purple, blue, grey).\n",
    "msg : :class:`str`\n",
    "    Message to be color printed.\n",
    "\"\"\"\n",
    "eyetracking.console(c=\"green\", msg=\"eyetracking.calibration() started\")\n"
   ]
  },
  {
   "cell_type": "code",
   "execution_count": 0,
   "metadata": {},
   "outputs": [],
   "source": [
    "# ----------------within trial\n",
    "# start recording\n",
    "\"\"\"\n",
    "Parameters\n",
    "----------\n",
    "trial : :obj:`int`\n",
    "    Trial Number.\n",
    "block : :obj:`int`\n",
    "     Block Number.\n",
    "variables : :obj:`dict`\n",
    "     Dict of variables to send to eyelink (variable name, value).\n",
    "\"\"\"\n",
    "eyetracking.start_recording(trial=1, block=1)\n"
   ]
  },
  {
   "cell_type": "code",
   "execution_count": 0,
   "metadata": {},
   "outputs": [],
   "source": [
    "# Collects new gaze coordinates from Eyelink (only if needed in experiment)\n",
    "\"\"\"\n",
    "Parameters\n",
    "----------\n",
    "eye_used : :obj:`str`\n",
    "    Checks if eye used is available.\n",
    "\"\"\"\n",
    "gxy = eyetracking.sample(eye_used=eye_used)\n"
   ]
  },
  {
   "cell_type": "code",
   "execution_count": 0,
   "metadata": {},
   "outputs": [],
   "source": [
    "# Send messages to eyelink.\n",
    "\"\"\"\n",
    "Parameters\n",
    "----------\n",
    "msg : :obj:`str`\n",
    "    Message to be recieved by eyelink.\n",
    "\"\"\"\n",
    "msg = \"stimulus onset\"\n",
    "eyetracking.send_message(msg=msg)\n"
   ]
  },
  {
   "cell_type": "code",
   "execution_count": 0,
   "metadata": {},
   "outputs": [],
   "source": [
    "# Stops recording of eyelink. Also allows transmission of trial-level variables to Eyelink.\n",
    "\"\"\"\n",
    "Stops recording of eyelink. Also allows transmission of trial-level variables to Eyelink.\n",
    "\n",
    "Parameters\n",
    "----------\n",
    "image : :obj:`str`\n",
    "    Image to be displayed in Eyelink software.\n",
    "trial : :obj:`int`\n",
    "    Trial Number.\n",
    "block : :obj:`int`\n",
    "    Block Number.\n",
    "block : :obj:`int`\n",
    "    Accuracy (1=correct, 0=incorrect).\n",
    "variables : :obj:`dict`\n",
    "    Dictionary of variables to send to eyelink (variable name, value).\n",
    "\"\"\"\n",
    "variables = dict(stimulus='img.jpg',\n",
    "                 trial_type='fixation',\n",
    "                 race=\"white\")\n",
    "eyetracking.stop_recording(trial=1, block=1, variables=variables)\n"
   ]
  },
  {
   "cell_type": "code",
   "execution_count": 0,
   "metadata": {},
   "outputs": [],
   "source": [
    "# Finish recording of eyelink.\n",
    "\"\"\"\n",
    "Parameters\n",
    "----------\n",
    "subject : :obj:`int`\n",
    "    subject number.\n",
    "\"\"\"\n",
    "eyetracking.finish_recording()\n"
   ]
  }
 ],
 "metadata": {
  "file_extension": ".py",
  "kernelspec": {
   "display_name": "Python 3",
   "language": "python",
   "name": "python3"
  },
  "language_info": {
   "codemirror_mode": {
    "name": "ipython",
    "version": 3
   },
   "file_extension": ".py",
   "mimetype": "text/x-python",
   "name": "python",
   "nbconvert_exporter": "python",
   "pygments_lexer": "ipython3",
   "version": "3.6.7"
  },
  "mimetype": "text/x-python",
  "name": "python",
  "npconvert_exporter": "python",
  "pygments_lexer": "ipython3",
  "version": 3
 },
 "nbformat": 4,
 "nbformat_minor": 2
}
